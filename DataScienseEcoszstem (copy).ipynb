{
  "metadata": {
    "kernelspec": {
      "name": "python",
      "display_name": "Python (Pyodide)",
      "language": "python"
    },
    "language_info": {
      "codemirror_mode": {
        "name": "python",
        "version": 3
      },
      "file_extension": ".py",
      "mimetype": "text/x-python",
      "name": "python",
      "nbconvert_exporter": "python",
      "pygments_lexer": "ipython3",
      "version": "3.8"
    },
    "prev_pub_hash": "e42e40e9ca210f9879e85cf62c4c0652dde5da4c891edf9096e3793226e092e5"
  },
  "nbformat_minor": 4,
  "nbformat": 4,
  "cells": [
    {
      "cell_type": "markdown",
      "source": "# Data Science Tools and Ecosystem",
      "metadata": {}
    },
    {
      "cell_type": "markdown",
      "source": "## in this notebook, Data Sciense Tools and Ecosystem are summarized",
      "metadata": {}
    },
    {
      "cell_type": "markdown",
      "source": "### Objectives:",
      "metadata": {}
    },
    {
      "cell_type": "markdown",
      "source": "##### 1. List of popular languages for Data Science",
      "metadata": {}
    },
    {
      "cell_type": "markdown",
      "source": "##### 2. The most commonly used libraries used by data scientists",
      "metadata": {}
    },
    {
      "cell_type": "markdown",
      "source": "##### 3. Create a Data Science Tools Table",
      "metadata": {}
    },
    {
      "cell_type": "markdown",
      "source": "### Some of the popular languages that Data Scientiste use are:",
      "metadata": {}
    },
    {
      "cell_type": "markdown",
      "source": "##### 1. Python\n##### 2. R\n##### 3. SQL",
      "metadata": {
        "jp-MarkdownHeadingCollapsed": true
      }
    },
    {
      "cell_type": "markdown",
      "source": "### Some of the commonly used libraries used by Data Scientists include:\n\n##### 1. NumPy",
      "metadata": {},
      "attachments": {}
    },
    {
      "cell_type": "markdown",
      "source": "##### 2. Keras",
      "metadata": {}
    },
    {
      "cell_type": "markdown",
      "source": "##### 3. Pandas",
      "metadata": {}
    },
    {
      "cell_type": "markdown",
      "source": "##### 4. TensorFlow",
      "metadata": {}
    },
    {
      "cell_type": "markdown",
      "source": "##### 5. SciPy",
      "metadata": {}
    },
    {
      "cell_type": "markdown",
      "source": "#### Data Science Tools",
      "metadata": {}
    },
    {
      "cell_type": "markdown",
      "source": "| Data Science Tools| \n|-------------------|\n|Jupyter Notebook| \n|RStudio| \n|Apache Spark| ",
      "metadata": {}
    },
    {
      "cell_type": "markdown",
      "source": "### Below are a few examples of evaluating arithmetic expressions in Python",
      "metadata": {}
    },
    {
      "cell_type": "code",
      "source": "#### This a simple arithmetic expression to mutiply then add integers\neval = (3*4)+5\nprint(eval)\nprint(eval==17)",
      "metadata": {
        "trusted": true
      },
      "outputs": [
        {
          "name": "stdout",
          "text": "17\nTrue\n",
          "output_type": "stream"
        }
      ],
      "execution_count": 1
    },
    {
      "cell_type": "code",
      "source": "#### This will convert 200 minutes to hours by diving by 60\nprint(200 / 6)",
      "metadata": {
        "trusted": true
      },
      "outputs": [
        {
          "name": "stdout",
          "text": "33.333333333333336\n",
          "output_type": "stream"
        }
      ],
      "execution_count": 2
    },
    {
      "cell_type": "markdown",
      "source": "## Author",
      "metadata": {}
    },
    {
      "cell_type": "markdown",
      "source": "#### Hanna Zarvii",
      "metadata": {}
    }
  ]
}